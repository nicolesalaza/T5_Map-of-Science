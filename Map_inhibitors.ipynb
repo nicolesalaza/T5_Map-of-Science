{
 "cells": [
  {
   "cell_type": "markdown",
   "id": "ba3ae45a",
   "metadata": {},
   "source": [
    "<img src=\"https://www.ikiam.edu.ec/img/logo-ikiam-grey.png\" width=300 height=240 />\n",
    "\n",
    "# *Universidad Regional Amazonica Ikiam*\n",
    "Bioinformatica \n",
    "\n",
    "Salazar Mildreth "
   ]
  },
  {
   "cell_type": "markdown",
   "id": "7810e9c4-1e35-4fba-8d1a-7bdacd123903",
   "metadata": {},
   "source": [
    "# T5_Map of Science\n",
    "Basado en las sesiones de Visualización de datos y Expresiones resulares. \n",
    "Realice una adaptación de la solución del MAP OF SCIENCE. Se requiere dos adaptaciones para resolver esta actividad:\n",
    "\n",
    "* Buscar bibliografía de un tema de interés propio en la Página Web de PubMed.\n",
    "* Realizar el minado de autores por país. \n",
    "* Para asignar las ubicación geográfica de los centroides de cada país (latitud y longitud), utilice la tabla  Ubicación Geográfica de Países - Google Developer. \n",
    "* En su resolución señale/resalte a los siguientes países: USA, UK, Brazil, China, Australia, Norway.  "
   ]
  },
  {
   "cell_type": "markdown",
   "id": "398896a6-9202-419a-98a7-3437c9e4e892",
   "metadata": {},
   "source": [
    "import re\n",
    "import csv\n",
    "import itertools"
   ]
  },
  {
   "cell_type": "code",
   "execution_count": 240,
   "id": "476324a0-7b9d-4848-91e4-0cc99ba08ded",
   "metadata": {},
   "outputs": [
    {
     "data": {
      "text/plain": [
       "29575237"
      ]
     },
     "execution_count": 240,
     "metadata": {},
     "output_type": "execute_result"
    }
   ],
   "source": [
    "with open('pubmed-inhibitors-set.txt',\"r\", encoding='utf-8-sig') as f: \n",
    "    my_text = f.read()\n",
    "len(my_text)"
   ]
  },
  {
   "cell_type": "code",
   "execution_count": 241,
   "id": "d0f8c662-c11b-4749-8b79-c33ce143b3a0",
   "metadata": {},
   "outputs": [],
   "source": [
    "my_text = re.sub(r'\\n\\s{6}', ' ', my_text)"
   ]
  },
  {
   "cell_type": "code",
   "execution_count": 242,
   "id": "04dd6fe2-1edc-4582-919e-aefcbcb41b4b",
   "metadata": {},
   "outputs": [
    {
     "name": "stdout",
     "output_type": "stream",
     "text": [
      "PMID- 32044947\n",
      "OWN - NLM\n",
      "STAT- MEDLINE\n",
      "DCOM- 20200304\n",
      "LR  - 20200304\n",
      "IS  - 1538-3598 (Electronic)\n",
      "IS  - 0098-7484 (Linking)\n",
      "VI  - 323\n",
      "IP  - 6\n",
      "DP  - 2020 Feb 11\n",
      "TI  - Diagnosis and Treatment of Parkinson Disease: A Review.\n",
      "PG  - 548-560\n",
      "LID - 10.1001/jama.2019.22360 [doi]\n",
      "AB  - IMPORTANCE: Parkinson disease is the most common form of parkinsonism, a group of  neurological disorders with Parkinson disease-like movement problems such as  rigidity, slowness, and tremor. More than 6 million individuals worldwide have  Parkinson disease. OBSERVATIONS: Diagnosis of Parkinson disease is based on history  and examination. History can include prodromal features (eg, rapid eye movement  sleep behavior disorder, hyposmia, constipation), characteristic movement difficulty  (eg, tremor, stiffness, slowness), and psychological or cognitive problems (eg,  cognitive decline, depression, anxiety). Examination typically demonstrates  bradykinesia with tremor, rigidity, or both. Dopamine transporter single-photon  emission computed tomography can improve the accuracy of diagnosis when the presence  of parkinsonism is uncertain. Parkinson disease has multiple disease variants with  different prognoses. Individuals with a diffuse malignant subtype (9%-16% of  individuals with Parkinson disease) have prominent early motor and nonmotor  symptoms, poor response to medication, and faster disease progression. Individuals  with mild motor-predominant Parkinson disease (49%-53% of individuals with Parkinson  disease) have mild symptoms, a good response to dopaminergic medications (eg,  carbidopa-levodopa, dopamine agonists), and slower disease progression. Other  individuals have an intermediate subtype. For all patients with Parkinson disease,  treatment is symptomatic, focused on improvement in motor (eg, tremor, rigidity,  bradykinesia) and nonmotor (eg, constipation, cognition, mood, sleep) signs and  symptoms. No disease-modifying pharmacologic treatments are available.  Dopamine-based the\n"
     ]
    }
   ],
   "source": [
    "print(my_text[:2000])"
   ]
  },
  {
   "cell_type": "code",
   "execution_count": 243,
   "id": "d6feb6de-8702-4505-b471-e8485d3ceacb",
   "metadata": {},
   "outputs": [],
   "source": [
    "zipcodes = re.findall(r\"\\,\\s[A-Z]+[A-z]{2,11}\\.\", my_text)"
   ]
  },
  {
   "cell_type": "code",
   "execution_count": 244,
   "id": "5906ae57-652a-4d2d-aa27-7ea805640b83",
   "metadata": {},
   "outputs": [
    {
     "data": {
      "text/plain": [
       "19216"
      ]
     },
     "execution_count": 244,
     "metadata": {},
     "output_type": "execute_result"
    }
   ],
   "source": [
    "len(zipcodes)"
   ]
  },
  {
   "cell_type": "code",
   "execution_count": 246,
   "id": "51fd5db1-12c0-4942-9c46-fe2256a65759",
   "metadata": {},
   "outputs": [],
   "source": [
    "unique_zipcodes = list(set(zipcodes))"
   ]
  },
  {
   "cell_type": "code",
   "execution_count": 288,
   "id": "54f4b936-5f6c-4be3-984b-20cf921409c2",
   "metadata": {},
   "outputs": [
    {
     "name": "stdout",
     "output_type": "stream",
     "text": [
      "['Albania', 'Algeria', 'Australia', 'Austria', 'Bangladesh', 'Belgium', 'Bolivia', 'Botswana', 'Brazil', 'Bulgaria', 'Burundi', 'Canada', 'Chad', 'Chile', 'China', 'Colombia', 'Croatia', 'Cuba', 'Cyprus', 'Davis', 'Denmark', 'Denver', 'Djibouti', 'Ecuador', 'Egypt', 'Ethiopia', 'FRG', 'Fig', 'Finland', 'France', 'Georgia', 'Germany', 'Ghana', 'Gotenstr', 'Greece', 'GrigoreT', 'Gudrunstr', 'Haifa', 'Henan', 'Hoppegarten', 'Houston', 'Hungary', 'IND', 'IRCCS', 'IRYCIS', 'ITALY', 'Ibaraki', 'Iceland', 'Idaho', 'Ill', 'Illinois', 'Inc', 'India', 'Indiana', 'Indianapolis', 'Indonesia', 'Iowa', 'Iran', 'Ireland', 'Irvine', 'Israel', 'Italia', 'Italy', 'Japan', 'Jeddah', 'Jining', 'Jordan', 'Kansas', 'Kentucky', 'Kenya', 'Kgs', 'Klybeckstr', 'Korea', 'Kreuzbergstr', 'Kuwait', 'Kyoto', 'LBD', 'LLC', 'LTD', 'Lab', 'Lebanon', 'Leimenstr', 'Lexington', 'Liban', 'Libya', 'Lille', 'Limited', 'Linn', 'Lithuania', 'Liuzhou', 'London', 'Louisiana', 'Ltd', 'Luxembourg', 'MPEP', 'MPTP', 'Maastricht', 'Macao', 'Macau', 'Malawi', 'Malaysia', 'Malta', 'Manchester', 'Marseille', 'Martinistr', 'Maryland', 'Mass', 'Medtronic', 'Mexico', 'Michigan', 'Middlesex', 'Mikko', 'Milano', 'Minn', 'Missouri', 'Miyoshi', 'Mohlstr', 'Mons', 'Morocco', 'Moscow', 'NAPVSIPQ', 'NBQX', 'NIH', 'NSW', 'Nagoya', 'Namibia', 'Nat', 'Nebraska', 'Netherlands', 'Nevada', 'Niger', 'Nigeria', 'Norway', 'Ohio', 'Oklahoma', 'Olshausenstr', 'Oman', 'Ont', 'Opp', 'Oxford', 'Pakistan', 'Pamplona', 'Paris', 'Parkin', 'Pennsylvania', 'Peru', 'Pfizer', 'Philadelphia', 'Philippines', 'Poland', 'Portugal', 'Punjab', 'Qatar', 'Que', 'ROC', 'Randwick', 'Ref', 'Reinach', 'Rennes', 'Richmond', 'Riga', 'Romania', 'Rome', 'Rotenone', 'Russia', 'Sask', 'Schweiz', 'Scotland', 'Seattle', 'Seoul', 'Serbia', 'Sfax', 'Shanxi', 'Shionogi', 'Singapore', 'Slovakia', 'Slovenia', 'Somalia', 'Spain', 'Stockholm', 'Sudan', 'Suisse', 'Suiza', 'Sweden', 'Switzerland', 'Szeged', 'TNF', 'Taipei', 'Taiwan', 'Takamatsu', 'Tampa', 'Tanzania', 'Tehran', 'Tennessee', 'Tex', 'Texas', 'Thailand', 'Tiruvarur', 'Tochigi', 'Tokyo', 'Toyama', 'Toyoake', 'Tschugg', 'Tulsa', 'Tunisia', 'Turkey', 'UAE', 'USA', 'Uganda', 'Ukraine', 'Ulm', 'Univ', 'Uruguay', 'Utah', 'Valencia', 'Velbert', 'Vermont', 'Vic', 'Vietnam', 'Virginia', 'Warszawie', 'Washington', 'Weinheim', 'Wiesbaden', 'Wisconsin', 'Wolfach', 'Yugoslavia', 'Zambia', 'Zambon', 'Zihlschlacht', 'Zimbabwe', 'Zurich']\n",
      "\n",
      "Los 10 primeros caracteres de la lista de países son:  ['Albania', 'Algeria', 'Australia', 'Austria', 'Bangladesh', 'Belgium', 'Bolivia', 'Botswana', 'Brazil', 'Bulgaria']\n",
      "\n",
      "Los 10 primeros caracteres de la lista de países son:  ['Albania', 'Algeria', 'Australia', 'Austria', 'Bangladesh', 'Belgium', 'Bolivia', 'Botswana', 'Brazil', 'Bulgaria']\n"
     ]
    }
   ],
   "source": [
    "unique_zipcodes.sort()\n",
    "a = unique_zipcodes\n",
    "print(a)\n",
    "print()\n",
    "b = unique_zipcodes\n",
    "print('Los 10 primeros caracteres de la lista de países son: ', b[:10]) \n",
    "print()\n",
    "print('Los 10 primeros caracteres de la lista de países son: ', unique_zipcodes[:10])"
   ]
  },
  {
   "cell_type": "code",
   "execution_count": 286,
   "id": "dfe09da2-8c8b-477a-8a66-362d4aad42f1",
   "metadata": {},
   "outputs": [
    {
     "data": {
      "text/plain": [
       "232"
      ]
     },
     "execution_count": 286,
     "metadata": {},
     "output_type": "execute_result"
    }
   ],
   "source": [
    "len(unique_zipcodes)"
   ]
  },
  {
   "cell_type": "code",
   "execution_count": 238,
   "id": "f2b5314a-9b6a-4c34-a9a5-452a56605a9e",
   "metadata": {},
   "outputs": [],
   "source": [
    "import pandas as pd"
   ]
  },
  {
   "cell_type": "code",
   "execution_count": 291,
   "id": "31f9e3fa-c53d-40ee-9bed-4acbe218a801",
   "metadata": {},
   "outputs": [
    {
     "data": {
      "text/html": [
       "<div>\n",
       "<style scoped>\n",
       "    .dataframe tbody tr th:only-of-type {\n",
       "        vertical-align: middle;\n",
       "    }\n",
       "\n",
       "    .dataframe tbody tr th {\n",
       "        vertical-align: top;\n",
       "    }\n",
       "\n",
       "    .dataframe thead th {\n",
       "        text-align: right;\n",
       "    }\n",
       "</style>\n",
       "<table border=\"1\" class=\"dataframe\">\n",
       "  <thead>\n",
       "    <tr style=\"text-align: right;\">\n",
       "      <th></th>\n",
       "      <th>country</th>\n",
       "      <th>latitude</th>\n",
       "      <th>longitude</th>\n",
       "      <th>name</th>\n",
       "    </tr>\n",
       "  </thead>\n",
       "  <tbody>\n",
       "    <tr>\n",
       "      <th>0</th>\n",
       "      <td>AD</td>\n",
       "      <td>42.546245</td>\n",
       "      <td>1.601554</td>\n",
       "      <td>Andorra</td>\n",
       "    </tr>\n",
       "    <tr>\n",
       "      <th>1</th>\n",
       "      <td>AE</td>\n",
       "      <td>23.424076</td>\n",
       "      <td>53.847818</td>\n",
       "      <td>United Arab Emirates</td>\n",
       "    </tr>\n",
       "    <tr>\n",
       "      <th>2</th>\n",
       "      <td>AF</td>\n",
       "      <td>33.939110</td>\n",
       "      <td>67.709953</td>\n",
       "      <td>Afghanistan</td>\n",
       "    </tr>\n",
       "    <tr>\n",
       "      <th>3</th>\n",
       "      <td>AG</td>\n",
       "      <td>17.060816</td>\n",
       "      <td>-61.796428</td>\n",
       "      <td>Antigua and Barbuda</td>\n",
       "    </tr>\n",
       "    <tr>\n",
       "      <th>4</th>\n",
       "      <td>AI</td>\n",
       "      <td>18.220554</td>\n",
       "      <td>-63.068615</td>\n",
       "      <td>Anguilla</td>\n",
       "    </tr>\n",
       "    <tr>\n",
       "      <th>5</th>\n",
       "      <td>AL</td>\n",
       "      <td>41.153332</td>\n",
       "      <td>20.168331</td>\n",
       "      <td>Albania</td>\n",
       "    </tr>\n",
       "    <tr>\n",
       "      <th>6</th>\n",
       "      <td>AM</td>\n",
       "      <td>40.069099</td>\n",
       "      <td>45.038189</td>\n",
       "      <td>Armenia</td>\n",
       "    </tr>\n",
       "    <tr>\n",
       "      <th>7</th>\n",
       "      <td>AN</td>\n",
       "      <td>12.226079</td>\n",
       "      <td>-69.060087</td>\n",
       "      <td>Netherlands Antilles</td>\n",
       "    </tr>\n",
       "    <tr>\n",
       "      <th>8</th>\n",
       "      <td>AO</td>\n",
       "      <td>-11.202692</td>\n",
       "      <td>17.873887</td>\n",
       "      <td>Angola</td>\n",
       "    </tr>\n",
       "    <tr>\n",
       "      <th>9</th>\n",
       "      <td>AQ</td>\n",
       "      <td>-75.250973</td>\n",
       "      <td>-0.071389</td>\n",
       "      <td>Antarctica</td>\n",
       "    </tr>\n",
       "  </tbody>\n",
       "</table>\n",
       "</div>"
      ],
      "text/plain": [
       "  country   latitude  longitude                  name\n",
       "0      AD  42.546245   1.601554               Andorra\n",
       "1      AE  23.424076  53.847818  United Arab Emirates\n",
       "2      AF  33.939110  67.709953           Afghanistan\n",
       "3      AG  17.060816 -61.796428   Antigua and Barbuda\n",
       "4      AI  18.220554 -63.068615              Anguilla\n",
       "5      AL  41.153332  20.168331               Albania\n",
       "6      AM  40.069099  45.038189               Armenia\n",
       "7      AN  12.226079 -69.060087  Netherlands Antilles\n",
       "8      AO -11.202692  17.873887                Angola\n",
       "9      AQ -75.250973  -0.071389            Antarctica"
      ]
     },
     "execution_count": 291,
     "metadata": {},
     "output_type": "execute_result"
    }
   ],
   "source": [
    "# Importamos los datos de las coordenadas \n",
    "data = pd.read_csv('codes_coordinates.csv', engine='python', skipfooter=3)\n",
    "data.head(10)"
   ]
  },
  {
   "cell_type": "code",
   "execution_count": 293,
   "id": "fc4711fc-7ff4-4f08-be2a-c024d556868c",
   "metadata": {},
   "outputs": [
    {
     "data": {
      "text/html": [
       "<div>\n",
       "<style scoped>\n",
       "    .dataframe tbody tr th:only-of-type {\n",
       "        vertical-align: middle;\n",
       "    }\n",
       "\n",
       "    .dataframe tbody tr th {\n",
       "        vertical-align: top;\n",
       "    }\n",
       "\n",
       "    .dataframe thead th {\n",
       "        text-align: right;\n",
       "    }\n",
       "</style>\n",
       "<table border=\"1\" class=\"dataframe\">\n",
       "  <thead>\n",
       "    <tr style=\"text-align: right;\">\n",
       "      <th></th>\n",
       "      <th>country</th>\n",
       "      <th>latitude</th>\n",
       "      <th>longitude</th>\n",
       "      <th>name</th>\n",
       "    </tr>\n",
       "  </thead>\n",
       "  <tbody>\n",
       "    <tr>\n",
       "      <th>5</th>\n",
       "      <td>AL</td>\n",
       "      <td>41.153332</td>\n",
       "      <td>20.168331</td>\n",
       "      <td>Albania</td>\n",
       "    </tr>\n",
       "    <tr>\n",
       "      <th>58</th>\n",
       "      <td>DZ</td>\n",
       "      <td>28.033886</td>\n",
       "      <td>1.659626</td>\n",
       "      <td>Algeria</td>\n",
       "    </tr>\n",
       "    <tr>\n",
       "      <th>13</th>\n",
       "      <td>AU</td>\n",
       "      <td>-25.274398</td>\n",
       "      <td>133.775136</td>\n",
       "      <td>Australia</td>\n",
       "    </tr>\n",
       "    <tr>\n",
       "      <th>12</th>\n",
       "      <td>AT</td>\n",
       "      <td>47.516231</td>\n",
       "      <td>14.550072</td>\n",
       "      <td>Austria</td>\n",
       "    </tr>\n",
       "    <tr>\n",
       "      <th>18</th>\n",
       "      <td>BD</td>\n",
       "      <td>23.684994</td>\n",
       "      <td>90.356331</td>\n",
       "      <td>Bangladesh</td>\n",
       "    </tr>\n",
       "    <tr>\n",
       "      <th>19</th>\n",
       "      <td>BE</td>\n",
       "      <td>50.503887</td>\n",
       "      <td>4.469936</td>\n",
       "      <td>Belgium</td>\n",
       "    </tr>\n",
       "    <tr>\n",
       "      <th>27</th>\n",
       "      <td>BO</td>\n",
       "      <td>-16.290154</td>\n",
       "      <td>-63.588653</td>\n",
       "      <td>Bolivia</td>\n",
       "    </tr>\n",
       "    <tr>\n",
       "      <th>32</th>\n",
       "      <td>BW</td>\n",
       "      <td>-22.328474</td>\n",
       "      <td>24.684866</td>\n",
       "      <td>Botswana</td>\n",
       "    </tr>\n",
       "    <tr>\n",
       "      <th>28</th>\n",
       "      <td>BR</td>\n",
       "      <td>-14.235004</td>\n",
       "      <td>-51.925280</td>\n",
       "      <td>Brazil</td>\n",
       "    </tr>\n",
       "    <tr>\n",
       "      <th>21</th>\n",
       "      <td>BG</td>\n",
       "      <td>42.733883</td>\n",
       "      <td>25.485830</td>\n",
       "      <td>Bulgaria</td>\n",
       "    </tr>\n",
       "  </tbody>\n",
       "</table>\n",
       "</div>"
      ],
      "text/plain": [
       "   country   latitude   longitude        name\n",
       "5       AL  41.153332   20.168331     Albania\n",
       "58      DZ  28.033886    1.659626     Algeria\n",
       "13      AU -25.274398  133.775136   Australia\n",
       "12      AT  47.516231   14.550072     Austria\n",
       "18      BD  23.684994   90.356331  Bangladesh\n",
       "19      BE  50.503887    4.469936     Belgium\n",
       "27      BO -16.290154  -63.588653     Bolivia\n",
       "32      BW -22.328474   24.684866    Botswana\n",
       "28      BR -14.235004  -51.925280      Brazil\n",
       "21      BG  42.733883   25.485830    Bulgaria"
      ]
     },
     "execution_count": 293,
     "metadata": {},
     "output_type": "execute_result"
    }
   ],
   "source": [
    "# Mediante el siguiente codigo se obtiene los datos para la grafica\n",
    "\n",
    "data_nombre = data[data.name.isin(unique_zipcodes)]\n",
    "data_paises = data[data.country.isin(unique_zipcodes)]\n",
    "all_data =pd.concat([data_nombre,data_paises]).drop_duplicates().sort_values('name')\n",
    "all_data.head(10)"
   ]
  },
  {
   "cell_type": "code",
   "execution_count": 306,
   "id": "ac5ed10d-b72f-4d78-9845-5da66cb5d2bb",
   "metadata": {},
   "outputs": [],
   "source": [
    "import matplotlib.pyplot as plt"
   ]
  },
  {
   "cell_type": "code",
   "execution_count": 310,
   "id": "94931f3f-ac38-4c45-b3c2-8821e070f420",
   "metadata": {},
   "outputs": [
    {
     "data": {
      "image/png": "[encoded data removed]",
      "text/plain": [
       "<Figure size 1296x864 with 2 Axes>"
      ]
     },
     "metadata": {
      "needs_background": "light"
     },
     "output_type": "display_data"
    }
   ],
   "source": [
    "# Graficamos \n",
    "\n",
    "plt.scatter(zip_long, zip_lat, s = zip_count, c= zip_count)\n",
    "plt.colorbar()\n",
    "plt.scatter(all_data.longitude, all_data.latitude, s=50, c=all_data.latitude)\n",
    "\n",
    "ard = dict(arrowstyle=\"->\")\n",
    "plt.annotate('USA', xy = (-95.712891, 37.09024), \n",
    "               xytext = (-95.712891, 40), arrowprops = ard)\n",
    "plt.annotate('UCRANIA', xy = (31.16558,48.379433), \n",
    "               xytext = (31.16558,51), arrowprops= ard)\n",
    "plt.annotate('BRASIL', xy = (-51.92528, -14.235004), \n",
    "               xytext = (-51.92528, -11), arrowprops= ard)\n",
    "plt.annotate('CHINA', xy = (104.195397, 35.86166), \n",
    "               xytext = (104.195397, 39), arrowprops= ard)\n",
    "plt.annotate('AUSTRALIA', xy = (133.775136, -25.274398), \n",
    "               xytext = (133.775136, -22), arrowprops= ard)\n",
    "plt.annotate('NORUEGA', xy = (8.468946, 60.472024), \n",
    "               xytext = (8.468946, 63), arrowprops= ard)\n",
    "\n",
    "params = plt.gcf()\n",
    "plSize = params.get_size_inches()\n",
    "params.set_size_inches( (plSize[0] * 3, plSize[1] * 3) )\n",
    "\n",
    "# Se grafico los paises de interes:USA UK BRASIL CHINA AUSTRALIA NORWAY"
   ]
  },
  {
   "cell_type": "code",
   "execution_count": null,
   "id": "4a25d325-e724-4aa5-8b4f-141a473a04b7",
   "metadata": {},
   "outputs": [],
   "source": []
  }
 ],
 "metadata": {
  "kernelspec": {
   "display_name": "Python 3 (ipykernel)",
   "language": "python",
   "name": "python3"
  },
  "language_info": {
   "codemirror_mode": {
    "name": "ipython",
    "version": 3
   },
   "file_extension": ".py",
   "mimetype": "text/x-python",
   "name": "python",
   "nbconvert_exporter": "python",
   "pygments_lexer": "ipython3",
   "version": "3.9.7"
  }
 },
 "nbformat": 4,
 "nbformat_minor": 5
}
